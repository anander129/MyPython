{
 "cells": [
  {
   "cell_type": "code",
   "execution_count": 1,
   "metadata": {},
   "outputs": [],
   "source": [
    "import numpy as np\n",
    "original_price = [1, 5, 8, 9, 10, 17, 17, 20, 24, 30, 33]"
   ]
  },
  {
   "cell_type": "code",
   "execution_count": 13,
   "metadata": {},
   "outputs": [],
   "source": [
    "maxP=50\n",
    "item=len(original_price)\n",
    "s=np.zeros((item+1,maxP+1))"
   ]
  },
  {
   "cell_type": "code",
   "execution_count": 14,
   "metadata": {},
   "outputs": [
    {
     "data": {
      "text/plain": [
       "0.0"
      ]
     },
     "execution_count": 14,
     "metadata": {},
     "output_type": "execute_result"
    }
   ],
   "source": [
    "s[1,2]\n"
   ]
  },
  {
   "cell_type": "code",
   "execution_count": 36,
   "metadata": {},
   "outputs": [],
   "source": [
    "for i in range(item):\n",
    "    line=i+1\n",
    "    val = original_price[i]\n",
    "    for j in range(maxP+1):\n",
    "        s[line,j]=s[line-1,j] if j < val else max(s[line-1,j],s[line-1,j-val]+val)\n",
    "\n",
    "        '''\n",
    "        if(j<val):\n",
    "            s[line,j]=s[line-1,j]\n",
    "        else:\n",
    "            s[line,j]=max(s[line-1,j], s[line-1,j-val]+val)\n",
    "        '''\n",
    "            "
   ]
  },
  {
   "cell_type": "code",
   "execution_count": 37,
   "metadata": {},
   "outputs": [],
   "source": [
    "def getpath(n):\n",
    "    if(n>maxP):\n",
    "        print(\"No path\")\n",
    "        return\n",
    "    pt=[]\n",
    "    m=n\n",
    "    for i in range(item,0,-1):\n",
    "        #print(i,' ',m)\n",
    "        if s[i,m]== s[i-1,m-original_price[i-1]]+original_price[i-1]:\n",
    "            pt.append(original_price[i-1])\n",
    "            m -=original_price[i-1]\n",
    "    pt.reverse()\n",
    "    return pt\n",
    "\n",
    "        "
   ]
  },
  {
   "cell_type": "code",
   "execution_count": 38,
   "metadata": {},
   "outputs": [
    {
     "name": "stdout",
     "output_type": "stream",
     "text": [
      "[1, 5, 20]\n"
     ]
    }
   ],
   "source": [
    "a=getpath(26)\n",
    "print(a)"
   ]
  },
  {
   "cell_type": "code",
   "execution_count": 39,
   "metadata": {},
   "outputs": [
    {
     "data": {
      "text/plain": [
       "[1, 2, 3]"
      ]
     },
     "execution_count": 39,
     "metadata": {},
     "output_type": "execute_result"
    }
   ],
   "source": [
    "[1,2]+[3]"
   ]
  },
  {
   "cell_type": "code",
   "execution_count": null,
   "metadata": {},
   "outputs": [],
   "source": []
  }
 ],
 "metadata": {
  "kernelspec": {
   "display_name": "Python 3",
   "language": "python",
   "name": "python3"
  },
  "language_info": {
   "codemirror_mode": {
    "name": "ipython",
    "version": 3
   },
   "file_extension": ".py",
   "mimetype": "text/x-python",
   "name": "python",
   "nbconvert_exporter": "python",
   "pygments_lexer": "ipython3",
   "version": "3.6.10"
  }
 },
 "nbformat": 4,
 "nbformat_minor": 4
}
